{
 "cells": [
  {
   "cell_type": "markdown",
   "id": "d0f21658-40c8-40c9-99d2-ec8c0b42e84f",
   "metadata": {},
   "source": [
    "# Assembly Lab"
   ]
  },
  {
   "cell_type": "markdown",
   "id": "f9ffdec9-9fcb-4a7b-910e-abecc6352210",
   "metadata": {},
   "source": [
    "- Authors:\n",
    "  - Angela Zeng, zenga8@mcmaster.ca\n",
    "  - Emma Wigglesworth, wigglee@mcmaster.ca\n",
    "- Group ID on Avenue: 50\n",
    "- Gitlab URL: https://gitlab.cas.mcmaster.ca/zenga8/l3-assembly"
   ]
  },
  {
   "cell_type": "markdown",
   "id": "da6b2461",
   "metadata": {},
   "source": [
    "# F1: Global Variables and First Visits"
   ]
  },
  {
   "cell_type": "code",
   "execution_count": null,
   "id": "a2d245a6",
   "metadata": {},
   "outputs": [],
   "source": [
    "# add_sub.py\n",
    "\n",
    "         BR      program\n",
    "value:       .BLOCK  2\n",
    "UNIV:    .WORD   42\n",
    "result:  .BLOCK  2\n",
    "program: DECI    value,d\n",
    "         LDWA    UNIV,d\n",
    "         ADDA    value,d\n",
    "         SUBA    3,i\n",
    "         SUBA    1,i\n",
    "         STWA    result,d \n",
    "         DECO    result,d\n",
    "         .END"
   ]
  },
  {
   "cell_type": "code",
   "execution_count": null,
   "id": "7ec214f5",
   "metadata": {},
   "outputs": [],
   "source": [
    "# simple.py \n",
    "         BR      program\n",
    "x:  .BLOCK  2\n",
    "program: LDWA    3, i\n",
    "         ADDA    2,i\n",
    "         STWA    x, d\n",
    "         DECO    x, d\n",
    "         .END"
   ]
  },
  {
   "cell_type": "markdown",
   "id": "43e427d0",
   "metadata": {},
   "source": [
    " **The translator uses NOP1 instructions. Any ideas why?**  \n",
    " \n",
    " The NOP instruction is an instruction that essentially does nothing. NOP1 is used in case there is no instruction after a label (in this case, t1). This will ensure the program is assembled correctly since its not guaranteed an instruction will follow after the label."
   ]
  },
  {
   "cell_type": "markdown",
   "id": "d8e76653",
   "metadata": {},
   "source": [
    "**Look at the code of translator.py**  \n",
    "**It relies on two visitors and two generators. Explain the role of each element.**\n",
    "<br> <br>\n",
    "In translator.py, we use two visitors and two generators. The visitor traverses the AST recursively to extract information. There are two visitors. The GlobalVariableExtraction class records the variable names (to allocate later in the generator). The TopLevelProgram class gives different assembly instructions depending on what node it visits.\n",
    "Generators are responsible for printing the instructions in PEP/9 assembly. You can also have backend generators for other assembly languages. The EntryPoint class generates the assembly instructions produced by the TopLevelProgram visitor. The StaticMemoryAllocation class reserves the memory for the variables visited by the GlobalVariableExtraction."
   ]
  },
  {
   "cell_type": "markdown",
   "id": "012988c8",
   "metadata": {},
   "source": [
    "**Explain the limitations of the current translation code in terms of software engineering.**  \n",
    "One limitation of the translation code is that it only works for Pep/9 so its very limited in terms of translatability. To overcome this, you can make a general translator interface so a class implementing that interface can be used to generate platform specific assembly.\n",
    "Another limitation is that because the output to assembly is printed instead of being written to a file, it becomes more difficult to debug the translator because if we were to print something (for debugging purposes), it would get mixed in with the printed output to assembly."
   ]
  },
  {
   "cell_type": "markdown",
   "id": "217aefb9-4bf5-4975-9e18-95718b2c47ca",
   "metadata": {},
   "source": [
    "## Self-reflection questions"
   ]
  },
  {
   "cell_type": "markdown",
   "id": "4646f916-24c0-401a-ac38-7aee03e59bf7",
   "metadata": {},
   "source": [
    "As part of the self-reflection dimension of an experiential course, each member of the group is expected to answer to the following four questions:\n",
    "\n",
    "- How much did you know about the subject before we started? (backward)\n",
    "- What did/do you find frustrating about this assignment? (inward)\n",
    "- If you were the instructor, what comments would you make about this piece? (outward)\n",
    "- What would you change if you had a chance to do this assignment over again? (forward)"
   ]
  }
 ],
 "metadata": {
  "kernelspec": {
   "display_name": "Python 3.10.7 64-bit",
   "language": "python",
   "name": "python3"
  },
  "language_info": {
   "codemirror_mode": {
    "name": "ipython",
    "version": 3
   },
   "file_extension": ".py",
   "mimetype": "text/x-python",
   "name": "python",
   "nbconvert_exporter": "python",
   "pygments_lexer": "ipython3",
   "version": "3.10.7"
  },
  "vscode": {
   "interpreter": {
    "hash": "afb734500600fd355917ca529030176ea0ca205570884b88f2f6f7d791fd3fbe"
   }
  }
 },
 "nbformat": 4,
 "nbformat_minor": 5
}
