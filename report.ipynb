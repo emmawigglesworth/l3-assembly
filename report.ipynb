{
 "cells": [
  {
   "cell_type": "markdown",
   "id": "d0f21658-40c8-40c9-99d2-ec8c0b42e84f",
   "metadata": {},
   "source": [
    "# Assembly Lab"
   ]
  },
  {
   "cell_type": "markdown",
   "id": "f9ffdec9-9fcb-4a7b-910e-abecc6352210",
   "metadata": {},
   "source": [
    "- Authors:\n",
    "  - Angela Zeng, zenga8@mcmaster.ca\n",
    "  - Emma Wigglesworth, wigglee@mcmaster.ca\n",
    "- Group ID on Avenue: 50\n",
    "- Gitlab URL: https://gitlab.cas.mcmaster.ca/zenga8/l3-assembly"
   ]
  },
  {
   "cell_type": "markdown",
   "id": "da6b2461",
   "metadata": {},
   "source": [
    "# F1: Global Variables and First Visits"
   ]
  },
  {
   "cell_type": "code",
   "execution_count": null,
   "id": "a2d245a6",
   "metadata": {},
   "outputs": [],
   "source": [
    "# add_sub.py\n",
    "\n",
    "         BR      program\n",
    "v:       .BLOCK  2\n",
    "UNIV:    .WORD   42\n",
    "result:  .BLOCK  2\n",
    "program: DECI    v,d\n",
    "         LDWA    UNIV,d\n",
    "         ADDA    v,d\n",
    "         SUBA    3,i\n",
    "         SUBA    1,i\n",
    "         STWA    result,d \n",
    "         DECO    result,d\n",
    "         .END"
   ]
  },
  {
   "cell_type": "code",
   "execution_count": null,
   "id": "7ec214f5",
   "metadata": {},
   "outputs": [],
   "source": [
    "# simple.py \n",
    "         BR      program\n",
    "result:  .BLOCK  2\n",
    "program: LDWA    3, i\n",
    "         ADDA    2,i\n",
    "         STWA    result, d\n",
    "         DECO    result, d\n",
    "         .END"
   ]
  },
  {
   "cell_type": "markdown",
   "id": "217aefb9-4bf5-4975-9e18-95718b2c47ca",
   "metadata": {},
   "source": [
    "## Self-reflection questions"
   ]
  },
  {
   "cell_type": "markdown",
   "id": "4646f916-24c0-401a-ac38-7aee03e59bf7",
   "metadata": {},
   "source": [
    "As part of the self-reflection dimension of an experiential course, each member of the group is expected to answer to the following four questions:\n",
    "\n",
    "- How much did you know about the subject before we started? (backward)\n",
    "- What did/do you find frustrating about this assignment? (inward)\n",
    "- If you were the instructor, what comments would you make about this piece? (outward)\n",
    "- What would you change if you had a chance to do this assignment over again? (forward)"
   ]
  },
  {
   "cell_type": "markdown",
   "id": "d8e76653",
   "metadata": {},
   "source": []
  }
 ],
 "metadata": {
  "kernelspec": {
   "display_name": "Python 3.10.7 64-bit",
   "language": "python",
   "name": "python3"
  },
  "language_info": {
   "codemirror_mode": {
    "name": "ipython",
    "version": 3
   },
   "file_extension": ".py",
   "mimetype": "text/x-python",
   "name": "python",
   "nbconvert_exporter": "python",
   "pygments_lexer": "ipython3",
   "version": "3.9.11"
  },
  "vscode": {
   "interpreter": {
    "hash": "afb734500600fd355917ca529030176ea0ca205570884b88f2f6f7d791fd3fbe"
   }
  }
 },
 "nbformat": 4,
 "nbformat_minor": 5
}
