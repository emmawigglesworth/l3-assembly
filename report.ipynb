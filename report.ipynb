{
 "cells": [
  {
   "cell_type": "markdown",
   "id": "d0f21658-40c8-40c9-99d2-ec8c0b42e84f",
   "metadata": {},
   "source": [
    "# Assembly Lab"
   ]
  },
  {
   "cell_type": "markdown",
   "id": "f9ffdec9-9fcb-4a7b-910e-abecc6352210",
   "metadata": {},
   "source": [
    "- Authors:\n",
    "  - Angela Zeng, zenga8@mcmaster.ca\n",
    "  - Emma Wigglesworth, wigglee@mcmaster.ca\n",
    "- Group ID on Avenue: 50\n",
    "- Gitlab URL: https://gitlab.cas.mcmaster.ca/zenga8/l3-assembly"
   ]
  },
  {
   "cell_type": "markdown",
   "id": "da6b2461",
   "metadata": {},
   "source": [
    "# F1: Global Variables and First Visits"
   ]
  },
  {
   "cell_type": "code",
   "execution_count": null,
   "id": "a2d245a6",
   "metadata": {},
   "outputs": [],
   "source": [
    "# add_sub.py\n",
    "\n",
    "         BR      program\n",
    "value:   .BLOCK  2\n",
    "UNIV:    .WORD   42\n",
    "result:  .BLOCK  2\n",
    "program: DECI    value,d\n",
    "         LDWA    UNIV,d\n",
    "         ADDA    value,d\n",
    "         SUBA    3,i\n",
    "         SUBA    1,i\n",
    "         STWA    result,d \n",
    "         DECO    result,d\n",
    "         .END"
   ]
  },
  {
   "cell_type": "code",
   "execution_count": null,
   "id": "7ec214f5",
   "metadata": {},
   "outputs": [],
   "source": [
    "# simple.py \n",
    "         BR      program\n",
    "x:       .BLOCK  2\n",
    "program: LDWA    3, i\n",
    "         ADDA    2, i\n",
    "         STWA    x, d\n",
    "         DECO    x, d\n",
    "         .END"
   ]
  },
  {
   "cell_type": "markdown",
   "id": "7050f9aa",
   "metadata": {},
   "source": [
    "**Explain in natural language what is the definition of a “global variable” in theseprograms.**\n",
    "\n",
    "A global variables are static pieces of data. This means that in no place or time during the execution of the program will the variable change. In order to do this, they are typcically given a specific address in memory. This is different to local variables which are stored on a stack and are accessed through a pointer. Local variables are subject to change in this way. Global variables typically take up more memory than local variables because of these differences. "
   ]
  },
  {
   "cell_type": "markdown",
   "id": "4682570b",
   "metadata": {},
   "source": [
    "**If you randomly pick on variable in an RBS program, under what condition can you decide it is a global one or a local one**\n",
    "\n",
    "Because of the difference between how global and local variables are stored, you can decide whether a variable is global based its address (if it is being stored in a static address in memory). The address must remain and be treated as static.\n"
   ]
  },
  {
   "cell_type": "markdown",
   "id": "43e427d0",
   "metadata": {},
   "source": [
    " **The translator uses NOP1 instructions. Any ideas why?**  \n",
    " \n",
    " The NOP instruction is an instruction that essentially does nothing. NOP1 is used in case there is no instruction after a label (in this case, t1). This will ensure the program is assembled correctly since its not guaranteed an instruction will follow after the label."
   ]
  },
  {
   "cell_type": "markdown",
   "id": "d8e76653",
   "metadata": {},
   "source": [
    "**Look at the code of translator.py**  \n",
    "**It relies on two visitors and two generators. Explain the role of each element.**\n",
    "<br> <br>\n",
    "In translator.py, we use two visitors and two generators. The visitor traverses the AST recursively to extract information. There are two visitors. The GlobalVariableExtraction class records the variable names (to allocate later in the generator). The TopLevelProgram class gives different assembly instructions depending on what node it visits.\n",
    "Generators are responsible for printing the instructions in PEP/9 assembly. You can also have backend generators for other assembly languages. The EntryPoint class generates the assembly instructions produced by the TopLevelProgram visitor. The StaticMemoryAllocation class reserves the memory for the variables visited by the GlobalVariableExtraction."
   ]
  },
  {
   "cell_type": "markdown",
   "id": "012988c8",
   "metadata": {},
   "source": [
    "**Explain the limitations of the current translation code in terms of software engineering.**  \n",
    "One limitation of the translation code is that it only works for Pep/9 so its very limited in terms of translatability. To overcome this, you can make a general translator interface so a class implementing that interface can be used to generate platform specific assembly.\n",
    "Another limitation is that because the output to assembly is printed instead of being written to a file, it becomes more difficult to debug the translator because if we were to print something (for debugging purposes), it would get mixed in with the printed output to assembly."
   ]
  },
  {
   "cell_type": "markdown",
   "id": "d70d511b",
   "metadata": {},
   "source": [
    "# F2: Allocation, Constants, and Symbols"
   ]
  },
  {
   "cell_type": "markdown",
   "id": "8c6f1c90",
   "metadata": {},
   "source": [
    "**For each improvement, explain in natural language how you extract (visit) the necessary inoformation form the AST, and how you translate (generate) it into Pep/9**"
   ]
  },
  {
   "cell_type": "markdown",
   "id": "45a2696d",
   "metadata": {},
   "source": [
    "**Memory Allocation / Constants**\n",
    "\n",
    "To improve memory allocation, we want to implement the canonical way of allcoating memory when the integer value is known where we would use `.WORD n` rather than using `.BLOCK 2` along with `LDWA` and `STWA` in the program. \n",
    "\n",
    "In order to differentiate the global variables during the memory allocation process, we altered `GlobalVariablesExtractor` to pass type `dict()` instead of a `set()` to the `StaticMemoryAllocation` class. The dictionary is structured with the node ids as the keys (this allows the unique entries property of `set()` to remain) and the item values as either the node's constant value (if the integer value of the variable is known) else a `None` type. `StaticMemoryAllocation` can then allocate either `.WORD n` or `.BLOCK 2` if the current node in `__global_vars` has a value or not.  \n",
    "We only do this when a variable is first encountered so that if the variable is set to a different value later on, it won't change the initial value.\n",
    "If there is a while loop we have a check `num_loops` to see how many while loops the assignment statement is in. If an assignment is in a while loop then we must do a load and store."
   ]
  },
  {
   "cell_type": "markdown",
   "id": "12558b8e",
   "metadata": {},
   "source": [
    "**Symbol Table**  \n",
    "\n",
    "In order to account for the limitation of PEP/9 symbols being limited to 8 characters, we are to account for this problem in our translator. We map every variable name to a corresponding unique identifier (a unique number) in the `TopLevelProgram` class to later use the unique identifier as a label for the assembly translation in the `StaticMemoryAllocation` class. This will ensure that every variable has a unique name so that we will not run into any problems such as the variables 'variable1' and 'variable2' having the same variable name in assembly (which would cause confusion)."
   ]
  },
  {
   "cell_type": "markdown",
   "id": "42a10552",
   "metadata": {},
   "source": [
    "**Compute “large” Fibonnaci or factorial numbers. Explain how overflows should be handled in a “real” programming language**  \n",
    "\n",
    "In a \"real\" programming language, there would be some kind of flag implemented in the system that indicates whether or not overflow has occurred. This could be handled with a single bit (0 for no overflow, 1 for overflow) in a [system status register]. The system could use this flag to prompt some kind of solution to the overflow problem, or simply use it to signal an error.\n",
    "\n",
    "[system status register]: https://en.wikipedia.org/wiki/Overflow_flag"
   ]
  },
  {
   "cell_type": "markdown",
   "id": "217aefb9-4bf5-4975-9e18-95718b2c47ca",
   "metadata": {},
   "source": [
    "# Self-reflection questions"
   ]
  }
 ],
 "metadata": {
  "kernelspec": {
   "display_name": "Python 3 (ipykernel)",
   "language": "python",
   "name": "python3"
  },
  "language_info": {
   "codemirror_mode": {
    "name": "ipython",
    "version": 3
   },
   "file_extension": ".py",
   "mimetype": "text/x-python",
   "name": "python",
   "nbconvert_exporter": "python",
   "pygments_lexer": "ipython3",
   "version": "3.10.8"
  },
  "vscode": {
   "interpreter": {
    "hash": "afb734500600fd355917ca529030176ea0ca205570884b88f2f6f7d791fd3fbe"
   }
  }
 },
 "nbformat": 4,
 "nbformat_minor": 5
}
